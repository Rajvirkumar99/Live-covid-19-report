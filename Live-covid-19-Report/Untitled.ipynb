{
 "cells": [
  {
   "cell_type": "code",
   "execution_count": 1,
   "metadata": {},
   "outputs": [],
   "source": [
    "def top_seven_states_index(x ):\n",
    "    positive = list(x)\n",
    "    top_seven_states= []\n",
    "    index_active = []\n",
    "    top_seven_states_active = []\n",
    "    state_active = []\n",
    "    \n",
    "    for i in range(7):        \n",
    "        top_seven_states.append(max(positive))\n",
    "        positive.remove(max(positive))  \n",
    "        \n",
    "    for i in range(len(x)):\n",
    "        for j in range(len(top_seven_states)):\n",
    "            if x[i] == top_seven_states[j]:\n",
    "                index_active.append(i)\n",
    "                \n",
    "    for i in index_active:   \n",
    "        state_active.append(df[\"state_name\"][i])\n",
    "    for i in index_active:\n",
    "        top_seven_states_active.append(x[i])     \n",
    "    return top_seven_states_active , state_active , index_active \n"
   ]
  },
  {
   "cell_type": "code",
   "execution_count": null,
   "metadata": {},
   "outputs": [],
   "source": []
  }
 ],
 "metadata": {
  "kernelspec": {
   "display_name": "Python 3",
   "language": "python",
   "name": "python3"
  },
  "language_info": {
   "codemirror_mode": {
    "name": "ipython",
    "version": 3
   },
   "file_extension": ".py",
   "mimetype": "text/x-python",
   "name": "python",
   "nbconvert_exporter": "python",
   "pygments_lexer": "ipython3",
   "version": "3.8.5"
  }
 },
 "nbformat": 4,
 "nbformat_minor": 4
}
